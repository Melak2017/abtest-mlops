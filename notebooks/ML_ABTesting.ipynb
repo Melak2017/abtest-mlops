{
 "cells": [
  {
   "cell_type": "code",
   "execution_count": 21,
   "metadata": {},
   "outputs": [],
   "source": [
    "import sys \n",
    "import os\n",
    "import dvc.api\n",
    "import warnings\n",
    "warnings.filterwarnings('ignore')\n",
    "sys.path.append(os.path.abspath(os.path.join('data')))\n",
    "sys.path.insert(0,'../scripts_/')\n",
    "sys.setrecursionlimit(5000)\n",
    "\n",
    "# Importing Pandas an Numpy Libraries to use on manipulating our Data\n",
    "import pandas as pd\n",
    "import numpy as np\n",
    "\n",
    "\n",
    "# To fill missing values\n",
    "from sklearn.impute import SimpleImputer\n",
    "\n",
    "\n",
    "\n",
    "# To Visualize Data\n",
    "import matplotlib.pyplot as plt\n",
    "import seaborn as sns\n",
    "\n",
    "# To Train our data\n",
    "from xgboost import XGBClassifier\n",
    "from sklearn.tree import DecisionTreeClassifier\n",
    "from sklearn.ensemble import RandomForestClassifier\n",
    "from sklearn.neighbors import KNeighborsClassifier\n",
    "from sklearn.linear_model import LogisticRegression\n",
    "from sklearn.naive_bayes import BernoulliNB, GaussianNB\n",
    "from sklearn.model_selection import KFold\n",
    "\n",
    "# To evaluate end result we have\n",
    "from sklearn.metrics import accuracy_score, confusion_matrix\n",
    "from sklearn.model_selection import LeaveOneOut\n",
    "from sklearn.model_selection import cross_val_score"
   ]
  },
  {
   "cell_type": "code",
   "execution_count": 22,
   "metadata": {},
   "outputs": [],
   "source": [
    "from utils import Utils\n",
    "import models\n",
    "from data_cleaning import DataCleaning\n",
    "\n",
    "utils = Utils()"
   ]
  },
  {
   "cell_type": "markdown",
   "metadata": {},
   "source": [
    "### Load Data"
   ]
  },
  {
   "cell_type": "code",
   "execution_count": 23,
   "metadata": {},
   "outputs": [],
   "source": [
    "df = utils.load_data('../data/AdSmartABdata.csv')"
   ]
  },
  {
   "cell_type": "code",
   "execution_count": 24,
   "metadata": {},
   "outputs": [
    {
     "data": {
      "text/html": [
       "<div>\n",
       "<style scoped>\n",
       "    .dataframe tbody tr th:only-of-type {\n",
       "        vertical-align: middle;\n",
       "    }\n",
       "\n",
       "    .dataframe tbody tr th {\n",
       "        vertical-align: top;\n",
       "    }\n",
       "\n",
       "    .dataframe thead th {\n",
       "        text-align: right;\n",
       "    }\n",
       "</style>\n",
       "<table border=\"1\" class=\"dataframe\">\n",
       "  <thead>\n",
       "    <tr style=\"text-align: right;\">\n",
       "      <th></th>\n",
       "      <th>auction_id</th>\n",
       "      <th>experiment</th>\n",
       "      <th>date</th>\n",
       "      <th>hour</th>\n",
       "      <th>device_make</th>\n",
       "      <th>platform_os</th>\n",
       "      <th>browser</th>\n",
       "      <th>yes</th>\n",
       "      <th>no</th>\n",
       "    </tr>\n",
       "  </thead>\n",
       "  <tbody>\n",
       "    <tr>\n",
       "      <th>0</th>\n",
       "      <td>0008ef63-77a7-448b-bd1e-075f42c55e39</td>\n",
       "      <td>exposed</td>\n",
       "      <td>2020-07-10</td>\n",
       "      <td>8</td>\n",
       "      <td>Generic Smartphone</td>\n",
       "      <td>6</td>\n",
       "      <td>Chrome Mobile</td>\n",
       "      <td>0</td>\n",
       "      <td>0</td>\n",
       "    </tr>\n",
       "    <tr>\n",
       "      <th>1</th>\n",
       "      <td>000eabc5-17ce-4137-8efe-44734d914446</td>\n",
       "      <td>exposed</td>\n",
       "      <td>2020-07-07</td>\n",
       "      <td>10</td>\n",
       "      <td>Generic Smartphone</td>\n",
       "      <td>6</td>\n",
       "      <td>Chrome Mobile</td>\n",
       "      <td>0</td>\n",
       "      <td>0</td>\n",
       "    </tr>\n",
       "    <tr>\n",
       "      <th>2</th>\n",
       "      <td>0016d14a-ae18-4a02-a204-6ba53b52f2ed</td>\n",
       "      <td>exposed</td>\n",
       "      <td>2020-07-05</td>\n",
       "      <td>2</td>\n",
       "      <td>E5823</td>\n",
       "      <td>6</td>\n",
       "      <td>Chrome Mobile WebView</td>\n",
       "      <td>0</td>\n",
       "      <td>1</td>\n",
       "    </tr>\n",
       "    <tr>\n",
       "      <th>3</th>\n",
       "      <td>00187412-2932-4542-a8ef-3633901c98d9</td>\n",
       "      <td>control</td>\n",
       "      <td>2020-07-03</td>\n",
       "      <td>15</td>\n",
       "      <td>Samsung SM-A705FN</td>\n",
       "      <td>6</td>\n",
       "      <td>Facebook</td>\n",
       "      <td>0</td>\n",
       "      <td>0</td>\n",
       "    </tr>\n",
       "    <tr>\n",
       "      <th>4</th>\n",
       "      <td>001a7785-d3fe-4e11-a344-c8735acacc2c</td>\n",
       "      <td>control</td>\n",
       "      <td>2020-07-03</td>\n",
       "      <td>15</td>\n",
       "      <td>Generic Smartphone</td>\n",
       "      <td>6</td>\n",
       "      <td>Chrome Mobile</td>\n",
       "      <td>0</td>\n",
       "      <td>0</td>\n",
       "    </tr>\n",
       "  </tbody>\n",
       "</table>\n",
       "</div>"
      ],
      "text/plain": [
       "                             auction_id experiment        date  hour  \\\n",
       "0  0008ef63-77a7-448b-bd1e-075f42c55e39    exposed  2020-07-10     8   \n",
       "1  000eabc5-17ce-4137-8efe-44734d914446    exposed  2020-07-07    10   \n",
       "2  0016d14a-ae18-4a02-a204-6ba53b52f2ed    exposed  2020-07-05     2   \n",
       "3  00187412-2932-4542-a8ef-3633901c98d9    control  2020-07-03    15   \n",
       "4  001a7785-d3fe-4e11-a344-c8735acacc2c    control  2020-07-03    15   \n",
       "\n",
       "          device_make  platform_os                browser  yes  no  \n",
       "0  Generic Smartphone            6          Chrome Mobile    0   0  \n",
       "1  Generic Smartphone            6          Chrome Mobile    0   0  \n",
       "2               E5823            6  Chrome Mobile WebView    0   1  \n",
       "3   Samsung SM-A705FN            6               Facebook    0   0  \n",
       "4  Generic Smartphone            6          Chrome Mobile    0   0  "
      ]
     },
     "execution_count": 24,
     "metadata": {},
     "output_type": "execute_result"
    }
   ],
   "source": [
    "df.head()"
   ]
  },
  {
   "cell_type": "markdown",
   "metadata": {},
   "source": [
    "Extract columns with yes or no response"
   ]
  },
  {
   "cell_type": "code",
   "execution_count": 25,
   "metadata": {},
   "outputs": [
    {
     "data": {
      "text/html": [
       "<div>\n",
       "<style scoped>\n",
       "    .dataframe tbody tr th:only-of-type {\n",
       "        vertical-align: middle;\n",
       "    }\n",
       "\n",
       "    .dataframe tbody tr th {\n",
       "        vertical-align: top;\n",
       "    }\n",
       "\n",
       "    .dataframe thead th {\n",
       "        text-align: right;\n",
       "    }\n",
       "</style>\n",
       "<table border=\"1\" class=\"dataframe\">\n",
       "  <thead>\n",
       "    <tr style=\"text-align: right;\">\n",
       "      <th></th>\n",
       "      <th>auction_id</th>\n",
       "      <th>experiment</th>\n",
       "      <th>date</th>\n",
       "      <th>hour</th>\n",
       "      <th>device_make</th>\n",
       "      <th>platform_os</th>\n",
       "      <th>browser</th>\n",
       "      <th>yes</th>\n",
       "      <th>no</th>\n",
       "    </tr>\n",
       "  </thead>\n",
       "  <tbody>\n",
       "    <tr>\n",
       "      <th>16</th>\n",
       "      <td>008aafdf-deef-4482-8fec-d98e3da054da</td>\n",
       "      <td>exposed</td>\n",
       "      <td>2020-07-04</td>\n",
       "      <td>16</td>\n",
       "      <td>Generic Smartphone</td>\n",
       "      <td>6</td>\n",
       "      <td>Chrome Mobile</td>\n",
       "      <td>1</td>\n",
       "      <td>0</td>\n",
       "    </tr>\n",
       "    <tr>\n",
       "      <th>23</th>\n",
       "      <td>00b6fadb-10bd-49e3-a778-290da82f7a8d</td>\n",
       "      <td>control</td>\n",
       "      <td>2020-07-08</td>\n",
       "      <td>4</td>\n",
       "      <td>Samsung SM-A202F</td>\n",
       "      <td>6</td>\n",
       "      <td>Facebook</td>\n",
       "      <td>1</td>\n",
       "      <td>0</td>\n",
       "    </tr>\n",
       "    <tr>\n",
       "      <th>45</th>\n",
       "      <td>018af862-486e-4da1-a85b-71872120e57c</td>\n",
       "      <td>control</td>\n",
       "      <td>2020-07-03</td>\n",
       "      <td>15</td>\n",
       "      <td>Generic Smartphone</td>\n",
       "      <td>6</td>\n",
       "      <td>Chrome Mobile</td>\n",
       "      <td>1</td>\n",
       "      <td>0</td>\n",
       "    </tr>\n",
       "    <tr>\n",
       "      <th>65</th>\n",
       "      <td>023ec7b5-cb8f-49a5-995f-e0d7c2f702e5</td>\n",
       "      <td>exposed</td>\n",
       "      <td>2020-07-09</td>\n",
       "      <td>13</td>\n",
       "      <td>Samsung SM-G935F</td>\n",
       "      <td>6</td>\n",
       "      <td>Facebook</td>\n",
       "      <td>1</td>\n",
       "      <td>0</td>\n",
       "    </tr>\n",
       "    <tr>\n",
       "      <th>89</th>\n",
       "      <td>02efdb70-8596-4f3f-b0b2-b91e194f61f7</td>\n",
       "      <td>exposed</td>\n",
       "      <td>2020-07-05</td>\n",
       "      <td>6</td>\n",
       "      <td>Generic Smartphone</td>\n",
       "      <td>6</td>\n",
       "      <td>Chrome Mobile</td>\n",
       "      <td>1</td>\n",
       "      <td>0</td>\n",
       "    </tr>\n",
       "  </tbody>\n",
       "</table>\n",
       "</div>"
      ],
      "text/plain": [
       "                              auction_id experiment        date  hour  \\\n",
       "16  008aafdf-deef-4482-8fec-d98e3da054da    exposed  2020-07-04    16   \n",
       "23  00b6fadb-10bd-49e3-a778-290da82f7a8d    control  2020-07-08     4   \n",
       "45  018af862-486e-4da1-a85b-71872120e57c    control  2020-07-03    15   \n",
       "65  023ec7b5-cb8f-49a5-995f-e0d7c2f702e5    exposed  2020-07-09    13   \n",
       "89  02efdb70-8596-4f3f-b0b2-b91e194f61f7    exposed  2020-07-05     6   \n",
       "\n",
       "           device_make  platform_os        browser  yes  no  \n",
       "16  Generic Smartphone            6  Chrome Mobile    1   0  \n",
       "23    Samsung SM-A202F            6       Facebook    1   0  \n",
       "45  Generic Smartphone            6  Chrome Mobile    1   0  \n",
       "65    Samsung SM-G935F            6       Facebook    1   0  \n",
       "89  Generic Smartphone            6  Chrome Mobile    1   0  "
      ]
     },
     "execution_count": 25,
     "metadata": {},
     "output_type": "execute_result"
    }
   ],
   "source": [
    "cleaner = DataCleaning(df)\n",
    "responded_df = cleaner.response(df)\n",
    "responded_df.head()"
   ]
  },
  {
   "cell_type": "markdown",
   "metadata": {},
   "source": [
    "##### Merge yes and no columns into aware column"
   ]
  },
  {
   "cell_type": "code",
   "execution_count": 26,
   "metadata": {},
   "outputs": [
    {
     "data": {
      "text/html": [
       "<div>\n",
       "<style scoped>\n",
       "    .dataframe tbody tr th:only-of-type {\n",
       "        vertical-align: middle;\n",
       "    }\n",
       "\n",
       "    .dataframe tbody tr th {\n",
       "        vertical-align: top;\n",
       "    }\n",
       "\n",
       "    .dataframe thead th {\n",
       "        text-align: right;\n",
       "    }\n",
       "</style>\n",
       "<table border=\"1\" class=\"dataframe\">\n",
       "  <thead>\n",
       "    <tr style=\"text-align: right;\">\n",
       "      <th></th>\n",
       "      <th>auction_id</th>\n",
       "      <th>experiment</th>\n",
       "      <th>date</th>\n",
       "      <th>hour</th>\n",
       "      <th>device_make</th>\n",
       "      <th>platform_os</th>\n",
       "      <th>browser</th>\n",
       "      <th>aware</th>\n",
       "    </tr>\n",
       "  </thead>\n",
       "  <tbody>\n",
       "    <tr>\n",
       "      <th>16</th>\n",
       "      <td>008aafdf-deef-4482-8fec-d98e3da054da</td>\n",
       "      <td>exposed</td>\n",
       "      <td>2020-07-04</td>\n",
       "      <td>16</td>\n",
       "      <td>Generic Smartphone</td>\n",
       "      <td>6</td>\n",
       "      <td>Chrome Mobile</td>\n",
       "      <td>1</td>\n",
       "    </tr>\n",
       "    <tr>\n",
       "      <th>23</th>\n",
       "      <td>00b6fadb-10bd-49e3-a778-290da82f7a8d</td>\n",
       "      <td>control</td>\n",
       "      <td>2020-07-08</td>\n",
       "      <td>4</td>\n",
       "      <td>Samsung SM-A202F</td>\n",
       "      <td>6</td>\n",
       "      <td>Facebook</td>\n",
       "      <td>1</td>\n",
       "    </tr>\n",
       "    <tr>\n",
       "      <th>45</th>\n",
       "      <td>018af862-486e-4da1-a85b-71872120e57c</td>\n",
       "      <td>control</td>\n",
       "      <td>2020-07-03</td>\n",
       "      <td>15</td>\n",
       "      <td>Generic Smartphone</td>\n",
       "      <td>6</td>\n",
       "      <td>Chrome Mobile</td>\n",
       "      <td>1</td>\n",
       "    </tr>\n",
       "    <tr>\n",
       "      <th>65</th>\n",
       "      <td>023ec7b5-cb8f-49a5-995f-e0d7c2f702e5</td>\n",
       "      <td>exposed</td>\n",
       "      <td>2020-07-09</td>\n",
       "      <td>13</td>\n",
       "      <td>Samsung SM-G935F</td>\n",
       "      <td>6</td>\n",
       "      <td>Facebook</td>\n",
       "      <td>1</td>\n",
       "    </tr>\n",
       "    <tr>\n",
       "      <th>89</th>\n",
       "      <td>02efdb70-8596-4f3f-b0b2-b91e194f61f7</td>\n",
       "      <td>exposed</td>\n",
       "      <td>2020-07-05</td>\n",
       "      <td>6</td>\n",
       "      <td>Generic Smartphone</td>\n",
       "      <td>6</td>\n",
       "      <td>Chrome Mobile</td>\n",
       "      <td>1</td>\n",
       "    </tr>\n",
       "  </tbody>\n",
       "</table>\n",
       "</div>"
      ],
      "text/plain": [
       "                              auction_id experiment        date  hour  \\\n",
       "16  008aafdf-deef-4482-8fec-d98e3da054da    exposed  2020-07-04    16   \n",
       "23  00b6fadb-10bd-49e3-a778-290da82f7a8d    control  2020-07-08     4   \n",
       "45  018af862-486e-4da1-a85b-71872120e57c    control  2020-07-03    15   \n",
       "65  023ec7b5-cb8f-49a5-995f-e0d7c2f702e5    exposed  2020-07-09    13   \n",
       "89  02efdb70-8596-4f3f-b0b2-b91e194f61f7    exposed  2020-07-05     6   \n",
       "\n",
       "           device_make  platform_os        browser  aware  \n",
       "16  Generic Smartphone            6  Chrome Mobile      1  \n",
       "23    Samsung SM-A202F            6       Facebook      1  \n",
       "45  Generic Smartphone            6  Chrome Mobile      1  \n",
       "65    Samsung SM-G935F            6       Facebook      1  \n",
       "89  Generic Smartphone            6  Chrome Mobile      1  "
      ]
     },
     "execution_count": 26,
     "metadata": {},
     "output_type": "execute_result"
    }
   ],
   "source": [
    "responded_df['aware'] = responded_df['yes'].map(lambda x: 1 if x == 1 else 0)\n",
    "responded_df = responded_df.drop(columns=['yes', 'no'])\n",
    "responded_df.head()"
   ]
  },
  {
   "cell_type": "markdown",
   "metadata": {},
   "source": [
    "Split dataframe as browser_only and platform_os only"
   ]
  },
  {
   "cell_type": "code",
   "execution_count": 27,
   "metadata": {},
   "outputs": [],
   "source": [
    "browser_df = responded_df[['hour','date', 'device_make', 'browser', 'aware', 'experiment']]\n",
    "platform_df = responded_df[['hour','date', 'device_make', 'platform_os', 'aware', 'experiment']]"
   ]
  },
  {
   "cell_type": "code",
   "execution_count": 28,
   "metadata": {},
   "outputs": [
    {
     "data": {
      "text/html": [
       "<div>\n",
       "<style scoped>\n",
       "    .dataframe tbody tr th:only-of-type {\n",
       "        vertical-align: middle;\n",
       "    }\n",
       "\n",
       "    .dataframe tbody tr th {\n",
       "        vertical-align: top;\n",
       "    }\n",
       "\n",
       "    .dataframe thead th {\n",
       "        text-align: right;\n",
       "    }\n",
       "</style>\n",
       "<table border=\"1\" class=\"dataframe\">\n",
       "  <thead>\n",
       "    <tr style=\"text-align: right;\">\n",
       "      <th></th>\n",
       "      <th>hour</th>\n",
       "      <th>date</th>\n",
       "      <th>device_make</th>\n",
       "      <th>browser</th>\n",
       "      <th>aware</th>\n",
       "      <th>experiment</th>\n",
       "    </tr>\n",
       "  </thead>\n",
       "  <tbody>\n",
       "    <tr>\n",
       "      <th>16</th>\n",
       "      <td>16</td>\n",
       "      <td>2020-07-04</td>\n",
       "      <td>Generic Smartphone</td>\n",
       "      <td>Chrome Mobile</td>\n",
       "      <td>1</td>\n",
       "      <td>exposed</td>\n",
       "    </tr>\n",
       "    <tr>\n",
       "      <th>23</th>\n",
       "      <td>4</td>\n",
       "      <td>2020-07-08</td>\n",
       "      <td>Samsung SM-A202F</td>\n",
       "      <td>Facebook</td>\n",
       "      <td>1</td>\n",
       "      <td>control</td>\n",
       "    </tr>\n",
       "    <tr>\n",
       "      <th>45</th>\n",
       "      <td>15</td>\n",
       "      <td>2020-07-03</td>\n",
       "      <td>Generic Smartphone</td>\n",
       "      <td>Chrome Mobile</td>\n",
       "      <td>1</td>\n",
       "      <td>control</td>\n",
       "    </tr>\n",
       "    <tr>\n",
       "      <th>65</th>\n",
       "      <td>13</td>\n",
       "      <td>2020-07-09</td>\n",
       "      <td>Samsung SM-G935F</td>\n",
       "      <td>Facebook</td>\n",
       "      <td>1</td>\n",
       "      <td>exposed</td>\n",
       "    </tr>\n",
       "    <tr>\n",
       "      <th>89</th>\n",
       "      <td>6</td>\n",
       "      <td>2020-07-05</td>\n",
       "      <td>Generic Smartphone</td>\n",
       "      <td>Chrome Mobile</td>\n",
       "      <td>1</td>\n",
       "      <td>exposed</td>\n",
       "    </tr>\n",
       "  </tbody>\n",
       "</table>\n",
       "</div>"
      ],
      "text/plain": [
       "    hour        date         device_make        browser  aware experiment\n",
       "16    16  2020-07-04  Generic Smartphone  Chrome Mobile      1    exposed\n",
       "23     4  2020-07-08    Samsung SM-A202F       Facebook      1    control\n",
       "45    15  2020-07-03  Generic Smartphone  Chrome Mobile      1    control\n",
       "65    13  2020-07-09    Samsung SM-G935F       Facebook      1    exposed\n",
       "89     6  2020-07-05  Generic Smartphone  Chrome Mobile      1    exposed"
      ]
     },
     "execution_count": 28,
     "metadata": {},
     "output_type": "execute_result"
    }
   ],
   "source": [
    "browser_df.head()"
   ]
  },
  {
   "cell_type": "code",
   "execution_count": 29,
   "metadata": {},
   "outputs": [
    {
     "data": {
      "text/html": [
       "<div>\n",
       "<style scoped>\n",
       "    .dataframe tbody tr th:only-of-type {\n",
       "        vertical-align: middle;\n",
       "    }\n",
       "\n",
       "    .dataframe tbody tr th {\n",
       "        vertical-align: top;\n",
       "    }\n",
       "\n",
       "    .dataframe thead th {\n",
       "        text-align: right;\n",
       "    }\n",
       "</style>\n",
       "<table border=\"1\" class=\"dataframe\">\n",
       "  <thead>\n",
       "    <tr style=\"text-align: right;\">\n",
       "      <th></th>\n",
       "      <th>hour</th>\n",
       "      <th>date</th>\n",
       "      <th>device_make</th>\n",
       "      <th>platform_os</th>\n",
       "      <th>aware</th>\n",
       "      <th>experiment</th>\n",
       "    </tr>\n",
       "  </thead>\n",
       "  <tbody>\n",
       "    <tr>\n",
       "      <th>16</th>\n",
       "      <td>16</td>\n",
       "      <td>2020-07-04</td>\n",
       "      <td>Generic Smartphone</td>\n",
       "      <td>6</td>\n",
       "      <td>1</td>\n",
       "      <td>exposed</td>\n",
       "    </tr>\n",
       "    <tr>\n",
       "      <th>23</th>\n",
       "      <td>4</td>\n",
       "      <td>2020-07-08</td>\n",
       "      <td>Samsung SM-A202F</td>\n",
       "      <td>6</td>\n",
       "      <td>1</td>\n",
       "      <td>control</td>\n",
       "    </tr>\n",
       "    <tr>\n",
       "      <th>45</th>\n",
       "      <td>15</td>\n",
       "      <td>2020-07-03</td>\n",
       "      <td>Generic Smartphone</td>\n",
       "      <td>6</td>\n",
       "      <td>1</td>\n",
       "      <td>control</td>\n",
       "    </tr>\n",
       "    <tr>\n",
       "      <th>65</th>\n",
       "      <td>13</td>\n",
       "      <td>2020-07-09</td>\n",
       "      <td>Samsung SM-G935F</td>\n",
       "      <td>6</td>\n",
       "      <td>1</td>\n",
       "      <td>exposed</td>\n",
       "    </tr>\n",
       "    <tr>\n",
       "      <th>89</th>\n",
       "      <td>6</td>\n",
       "      <td>2020-07-05</td>\n",
       "      <td>Generic Smartphone</td>\n",
       "      <td>6</td>\n",
       "      <td>1</td>\n",
       "      <td>exposed</td>\n",
       "    </tr>\n",
       "  </tbody>\n",
       "</table>\n",
       "</div>"
      ],
      "text/plain": [
       "    hour        date         device_make  platform_os  aware experiment\n",
       "16    16  2020-07-04  Generic Smartphone            6      1    exposed\n",
       "23     4  2020-07-08    Samsung SM-A202F            6      1    control\n",
       "45    15  2020-07-03  Generic Smartphone            6      1    control\n",
       "65    13  2020-07-09    Samsung SM-G935F            6      1    exposed\n",
       "89     6  2020-07-05  Generic Smartphone            6      1    exposed"
      ]
     },
     "execution_count": 29,
     "metadata": {},
     "output_type": "execute_result"
    }
   ],
   "source": [
    "platform_df.head()"
   ]
  },
  {
   "cell_type": "code",
   "execution_count": 30,
   "metadata": {},
   "outputs": [],
   "source": [
    "android = platform_df.groupby('platform_os').get_group(6)\n",
    "ios = platform_df.groupby('platform_os').get_group(5)"
   ]
  },
  {
   "cell_type": "code",
   "execution_count": 31,
   "metadata": {},
   "outputs": [
    {
     "name": "stdout",
     "output_type": "stream",
     "text": [
      "File Successfully Saved.!!!\n",
      "File Successfully Saved.!!!\n"
     ]
    },
    {
     "data": {
      "text/html": [
       "<div>\n",
       "<style scoped>\n",
       "    .dataframe tbody tr th:only-of-type {\n",
       "        vertical-align: middle;\n",
       "    }\n",
       "\n",
       "    .dataframe tbody tr th {\n",
       "        vertical-align: top;\n",
       "    }\n",
       "\n",
       "    .dataframe thead th {\n",
       "        text-align: right;\n",
       "    }\n",
       "</style>\n",
       "<table border=\"1\" class=\"dataframe\">\n",
       "  <thead>\n",
       "    <tr style=\"text-align: right;\">\n",
       "      <th></th>\n",
       "      <th>hour</th>\n",
       "      <th>date</th>\n",
       "      <th>device_make</th>\n",
       "      <th>platform_os</th>\n",
       "      <th>aware</th>\n",
       "      <th>experiment</th>\n",
       "    </tr>\n",
       "  </thead>\n",
       "  <tbody>\n",
       "    <tr>\n",
       "      <th>3240</th>\n",
       "      <td>3</td>\n",
       "      <td>2020-07-04</td>\n",
       "      <td>iPhone</td>\n",
       "      <td>5</td>\n",
       "      <td>1</td>\n",
       "      <td>control</td>\n",
       "    </tr>\n",
       "    <tr>\n",
       "      <th>3843</th>\n",
       "      <td>3</td>\n",
       "      <td>2020-07-05</td>\n",
       "      <td>iPhone</td>\n",
       "      <td>5</td>\n",
       "      <td>1</td>\n",
       "      <td>exposed</td>\n",
       "    </tr>\n",
       "    <tr>\n",
       "      <th>5278</th>\n",
       "      <td>9</td>\n",
       "      <td>2020-07-09</td>\n",
       "      <td>iPhone</td>\n",
       "      <td>5</td>\n",
       "      <td>1</td>\n",
       "      <td>control</td>\n",
       "    </tr>\n",
       "    <tr>\n",
       "      <th>7095</th>\n",
       "      <td>5</td>\n",
       "      <td>2020-07-09</td>\n",
       "      <td>iPhone</td>\n",
       "      <td>5</td>\n",
       "      <td>1</td>\n",
       "      <td>control</td>\n",
       "    </tr>\n",
       "    <tr>\n",
       "      <th>7465</th>\n",
       "      <td>11</td>\n",
       "      <td>2020-07-04</td>\n",
       "      <td>iPhone</td>\n",
       "      <td>5</td>\n",
       "      <td>1</td>\n",
       "      <td>control</td>\n",
       "    </tr>\n",
       "    <tr>\n",
       "      <th>1097</th>\n",
       "      <td>8</td>\n",
       "      <td>2020-07-03</td>\n",
       "      <td>iPhone</td>\n",
       "      <td>5</td>\n",
       "      <td>0</td>\n",
       "      <td>exposed</td>\n",
       "    </tr>\n",
       "    <tr>\n",
       "      <th>2630</th>\n",
       "      <td>15</td>\n",
       "      <td>2020-07-03</td>\n",
       "      <td>iPhone</td>\n",
       "      <td>5</td>\n",
       "      <td>0</td>\n",
       "      <td>control</td>\n",
       "    </tr>\n",
       "    <tr>\n",
       "      <th>2631</th>\n",
       "      <td>15</td>\n",
       "      <td>2020-07-03</td>\n",
       "      <td>iPhone</td>\n",
       "      <td>5</td>\n",
       "      <td>0</td>\n",
       "      <td>control</td>\n",
       "    </tr>\n",
       "    <tr>\n",
       "      <th>4245</th>\n",
       "      <td>5</td>\n",
       "      <td>2020-07-08</td>\n",
       "      <td>iPhone</td>\n",
       "      <td>5</td>\n",
       "      <td>0</td>\n",
       "      <td>exposed</td>\n",
       "    </tr>\n",
       "    <tr>\n",
       "      <th>4706</th>\n",
       "      <td>14</td>\n",
       "      <td>2020-07-10</td>\n",
       "      <td>iPhone</td>\n",
       "      <td>5</td>\n",
       "      <td>0</td>\n",
       "      <td>control</td>\n",
       "    </tr>\n",
       "    <tr>\n",
       "      <th>4749</th>\n",
       "      <td>12</td>\n",
       "      <td>2020-07-04</td>\n",
       "      <td>iPhone</td>\n",
       "      <td>5</td>\n",
       "      <td>0</td>\n",
       "      <td>control</td>\n",
       "    </tr>\n",
       "    <tr>\n",
       "      <th>4871</th>\n",
       "      <td>1</td>\n",
       "      <td>2020-07-06</td>\n",
       "      <td>iPhone</td>\n",
       "      <td>5</td>\n",
       "      <td>0</td>\n",
       "      <td>control</td>\n",
       "    </tr>\n",
       "    <tr>\n",
       "      <th>5384</th>\n",
       "      <td>15</td>\n",
       "      <td>2020-07-03</td>\n",
       "      <td>iPhone</td>\n",
       "      <td>5</td>\n",
       "      <td>0</td>\n",
       "      <td>control</td>\n",
       "    </tr>\n",
       "    <tr>\n",
       "      <th>6203</th>\n",
       "      <td>15</td>\n",
       "      <td>2020-07-03</td>\n",
       "      <td>iPhone</td>\n",
       "      <td>5</td>\n",
       "      <td>0</td>\n",
       "      <td>control</td>\n",
       "    </tr>\n",
       "    <tr>\n",
       "      <th>6410</th>\n",
       "      <td>11</td>\n",
       "      <td>2020-07-04</td>\n",
       "      <td>iPhone</td>\n",
       "      <td>5</td>\n",
       "      <td>0</td>\n",
       "      <td>control</td>\n",
       "    </tr>\n",
       "    <tr>\n",
       "      <th>6905</th>\n",
       "      <td>2</td>\n",
       "      <td>2020-07-09</td>\n",
       "      <td>iPhone</td>\n",
       "      <td>5</td>\n",
       "      <td>0</td>\n",
       "      <td>exposed</td>\n",
       "    </tr>\n",
       "    <tr>\n",
       "      <th>7856</th>\n",
       "      <td>17</td>\n",
       "      <td>2020-07-07</td>\n",
       "      <td>iPhone</td>\n",
       "      <td>5</td>\n",
       "      <td>0</td>\n",
       "      <td>control</td>\n",
       "    </tr>\n",
       "  </tbody>\n",
       "</table>\n",
       "</div>"
      ],
      "text/plain": [
       "      hour        date device_make  platform_os  aware experiment\n",
       "3240     3  2020-07-04      iPhone            5      1    control\n",
       "3843     3  2020-07-05      iPhone            5      1    exposed\n",
       "5278     9  2020-07-09      iPhone            5      1    control\n",
       "7095     5  2020-07-09      iPhone            5      1    control\n",
       "7465    11  2020-07-04      iPhone            5      1    control\n",
       "1097     8  2020-07-03      iPhone            5      0    exposed\n",
       "2630    15  2020-07-03      iPhone            5      0    control\n",
       "2631    15  2020-07-03      iPhone            5      0    control\n",
       "4245     5  2020-07-08      iPhone            5      0    exposed\n",
       "4706    14  2020-07-10      iPhone            5      0    control\n",
       "4749    12  2020-07-04      iPhone            5      0    control\n",
       "4871     1  2020-07-06      iPhone            5      0    control\n",
       "5384    15  2020-07-03      iPhone            5      0    control\n",
       "6203    15  2020-07-03      iPhone            5      0    control\n",
       "6410    11  2020-07-04      iPhone            5      0    control\n",
       "6905     2  2020-07-09      iPhone            5      0    exposed\n",
       "7856    17  2020-07-07      iPhone            5      0    control"
      ]
     },
     "execution_count": 31,
     "metadata": {},
     "output_type": "execute_result"
    }
   ],
   "source": [
    "utils.save_csv(android, '../data/platform_os_android.csv')\n",
    "utils.save_csv(ios, '../data/platform_os_ios.csv')"
   ]
  },
  {
   "cell_type": "code",
   "execution_count": 32,
   "metadata": {},
   "outputs": [
    {
     "data": {
      "text/html": [
       "<div>\n",
       "<style scoped>\n",
       "    .dataframe tbody tr th:only-of-type {\n",
       "        vertical-align: middle;\n",
       "    }\n",
       "\n",
       "    .dataframe tbody tr th {\n",
       "        vertical-align: top;\n",
       "    }\n",
       "\n",
       "    .dataframe thead th {\n",
       "        text-align: right;\n",
       "    }\n",
       "</style>\n",
       "<table border=\"1\" class=\"dataframe\">\n",
       "  <thead>\n",
       "    <tr style=\"text-align: right;\">\n",
       "      <th></th>\n",
       "      <th>hour</th>\n",
       "      <th>date</th>\n",
       "      <th>device_make</th>\n",
       "      <th>aware</th>\n",
       "      <th>experiment</th>\n",
       "    </tr>\n",
       "    <tr>\n",
       "      <th>browser</th>\n",
       "      <th></th>\n",
       "      <th></th>\n",
       "      <th></th>\n",
       "      <th></th>\n",
       "      <th></th>\n",
       "    </tr>\n",
       "  </thead>\n",
       "  <tbody>\n",
       "    <tr>\n",
       "      <th>Chrome</th>\n",
       "      <td>2</td>\n",
       "      <td>2</td>\n",
       "      <td>2</td>\n",
       "      <td>2</td>\n",
       "      <td>2</td>\n",
       "    </tr>\n",
       "    <tr>\n",
       "      <th>Chrome Mobile</th>\n",
       "      <td>695</td>\n",
       "      <td>695</td>\n",
       "      <td>695</td>\n",
       "      <td>695</td>\n",
       "      <td>695</td>\n",
       "    </tr>\n",
       "    <tr>\n",
       "      <th>Chrome Mobile WebView</th>\n",
       "      <td>227</td>\n",
       "      <td>227</td>\n",
       "      <td>227</td>\n",
       "      <td>227</td>\n",
       "      <td>227</td>\n",
       "    </tr>\n",
       "    <tr>\n",
       "      <th>Chrome Mobile iOS</th>\n",
       "      <td>1</td>\n",
       "      <td>1</td>\n",
       "      <td>1</td>\n",
       "      <td>1</td>\n",
       "      <td>1</td>\n",
       "    </tr>\n",
       "    <tr>\n",
       "      <th>Facebook</th>\n",
       "      <td>156</td>\n",
       "      <td>156</td>\n",
       "      <td>156</td>\n",
       "      <td>156</td>\n",
       "      <td>156</td>\n",
       "    </tr>\n",
       "    <tr>\n",
       "      <th>Mobile Safari</th>\n",
       "      <td>14</td>\n",
       "      <td>14</td>\n",
       "      <td>14</td>\n",
       "      <td>14</td>\n",
       "      <td>14</td>\n",
       "    </tr>\n",
       "    <tr>\n",
       "      <th>Mobile Safari UI/WKWebView</th>\n",
       "      <td>3</td>\n",
       "      <td>3</td>\n",
       "      <td>3</td>\n",
       "      <td>3</td>\n",
       "      <td>3</td>\n",
       "    </tr>\n",
       "    <tr>\n",
       "      <th>Samsung Internet</th>\n",
       "      <td>145</td>\n",
       "      <td>145</td>\n",
       "      <td>145</td>\n",
       "      <td>145</td>\n",
       "      <td>145</td>\n",
       "    </tr>\n",
       "  </tbody>\n",
       "</table>\n",
       "</div>"
      ],
      "text/plain": [
       "                            hour  date  device_make  aware  experiment\n",
       "browser                                                               \n",
       "Chrome                         2     2            2      2           2\n",
       "Chrome Mobile                695   695          695    695         695\n",
       "Chrome Mobile WebView        227   227          227    227         227\n",
       "Chrome Mobile iOS              1     1            1      1           1\n",
       "Facebook                     156   156          156    156         156\n",
       "Mobile Safari                 14    14           14     14          14\n",
       "Mobile Safari UI/WKWebView     3     3            3      3           3\n",
       "Samsung Internet             145   145          145    145         145"
      ]
     },
     "execution_count": 32,
     "metadata": {},
     "output_type": "execute_result"
    }
   ],
   "source": [
    "browser_df.groupby('browser').count()"
   ]
  },
  {
   "cell_type": "markdown",
   "metadata": {},
   "source": [
    "The most common browsers are Chrome Mobile and Chrome Mobile WebView so we'll extract the two groups"
   ]
  },
  {
   "cell_type": "code",
   "execution_count": 33,
   "metadata": {},
   "outputs": [],
   "source": [
    "chrome_mobile = browser_df.groupby('browser').get_group('Chrome Mobile')\n",
    "chrome_mobile_webview = browser_df.groupby('browser').get_group('Chrome Mobile WebView')"
   ]
  },
  {
   "cell_type": "code",
   "execution_count": 34,
   "metadata": {},
   "outputs": [
    {
     "name": "stdout",
     "output_type": "stream",
     "text": [
      "File Successfully Saved.!!!\n",
      "File Successfully Saved.!!!\n"
     ]
    },
    {
     "data": {
      "text/html": [
       "<div>\n",
       "<style scoped>\n",
       "    .dataframe tbody tr th:only-of-type {\n",
       "        vertical-align: middle;\n",
       "    }\n",
       "\n",
       "    .dataframe tbody tr th {\n",
       "        vertical-align: top;\n",
       "    }\n",
       "\n",
       "    .dataframe thead th {\n",
       "        text-align: right;\n",
       "    }\n",
       "</style>\n",
       "<table border=\"1\" class=\"dataframe\">\n",
       "  <thead>\n",
       "    <tr style=\"text-align: right;\">\n",
       "      <th></th>\n",
       "      <th>hour</th>\n",
       "      <th>date</th>\n",
       "      <th>device_make</th>\n",
       "      <th>browser</th>\n",
       "      <th>aware</th>\n",
       "      <th>experiment</th>\n",
       "    </tr>\n",
       "  </thead>\n",
       "  <tbody>\n",
       "    <tr>\n",
       "      <th>128</th>\n",
       "      <td>11</td>\n",
       "      <td>2020-07-04</td>\n",
       "      <td>Samsung SM-G981B</td>\n",
       "      <td>Chrome Mobile WebView</td>\n",
       "      <td>1</td>\n",
       "      <td>exposed</td>\n",
       "    </tr>\n",
       "    <tr>\n",
       "      <th>144</th>\n",
       "      <td>2</td>\n",
       "      <td>2020-07-05</td>\n",
       "      <td>Generic Smartphone</td>\n",
       "      <td>Chrome Mobile WebView</td>\n",
       "      <td>1</td>\n",
       "      <td>exposed</td>\n",
       "    </tr>\n",
       "    <tr>\n",
       "      <th>241</th>\n",
       "      <td>20</td>\n",
       "      <td>2020-07-08</td>\n",
       "      <td>Generic Smartphone</td>\n",
       "      <td>Chrome Mobile WebView</td>\n",
       "      <td>1</td>\n",
       "      <td>exposed</td>\n",
       "    </tr>\n",
       "    <tr>\n",
       "      <th>357</th>\n",
       "      <td>15</td>\n",
       "      <td>2020-07-03</td>\n",
       "      <td>Samsung SM-A202F</td>\n",
       "      <td>Chrome Mobile WebView</td>\n",
       "      <td>1</td>\n",
       "      <td>control</td>\n",
       "    </tr>\n",
       "    <tr>\n",
       "      <th>358</th>\n",
       "      <td>21</td>\n",
       "      <td>2020-07-08</td>\n",
       "      <td>Samsung SM-A405FN</td>\n",
       "      <td>Chrome Mobile WebView</td>\n",
       "      <td>1</td>\n",
       "      <td>exposed</td>\n",
       "    </tr>\n",
       "    <tr>\n",
       "      <th>...</th>\n",
       "      <td>...</td>\n",
       "      <td>...</td>\n",
       "      <td>...</td>\n",
       "      <td>...</td>\n",
       "      <td>...</td>\n",
       "      <td>...</td>\n",
       "    </tr>\n",
       "    <tr>\n",
       "      <th>7479</th>\n",
       "      <td>13</td>\n",
       "      <td>2020-07-03</td>\n",
       "      <td>Generic Smartphone</td>\n",
       "      <td>Chrome Mobile WebView</td>\n",
       "      <td>0</td>\n",
       "      <td>exposed</td>\n",
       "    </tr>\n",
       "    <tr>\n",
       "      <th>7596</th>\n",
       "      <td>8</td>\n",
       "      <td>2020-07-09</td>\n",
       "      <td>Pixel 2</td>\n",
       "      <td>Chrome Mobile WebView</td>\n",
       "      <td>0</td>\n",
       "      <td>exposed</td>\n",
       "    </tr>\n",
       "    <tr>\n",
       "      <th>7768</th>\n",
       "      <td>14</td>\n",
       "      <td>2020-07-08</td>\n",
       "      <td>Generic Smartphone</td>\n",
       "      <td>Chrome Mobile WebView</td>\n",
       "      <td>0</td>\n",
       "      <td>exposed</td>\n",
       "    </tr>\n",
       "    <tr>\n",
       "      <th>7901</th>\n",
       "      <td>8</td>\n",
       "      <td>2020-07-10</td>\n",
       "      <td>Samsung SM-A300FU</td>\n",
       "      <td>Chrome Mobile WebView</td>\n",
       "      <td>0</td>\n",
       "      <td>exposed</td>\n",
       "    </tr>\n",
       "    <tr>\n",
       "      <th>7975</th>\n",
       "      <td>12</td>\n",
       "      <td>2020-07-10</td>\n",
       "      <td>Samsung SM-A520F</td>\n",
       "      <td>Chrome Mobile WebView</td>\n",
       "      <td>0</td>\n",
       "      <td>control</td>\n",
       "    </tr>\n",
       "  </tbody>\n",
       "</table>\n",
       "<p>227 rows × 6 columns</p>\n",
       "</div>"
      ],
      "text/plain": [
       "      hour        date         device_make                browser  aware  \\\n",
       "128     11  2020-07-04    Samsung SM-G981B  Chrome Mobile WebView      1   \n",
       "144      2  2020-07-05  Generic Smartphone  Chrome Mobile WebView      1   \n",
       "241     20  2020-07-08  Generic Smartphone  Chrome Mobile WebView      1   \n",
       "357     15  2020-07-03    Samsung SM-A202F  Chrome Mobile WebView      1   \n",
       "358     21  2020-07-08   Samsung SM-A405FN  Chrome Mobile WebView      1   \n",
       "...    ...         ...                 ...                    ...    ...   \n",
       "7479    13  2020-07-03  Generic Smartphone  Chrome Mobile WebView      0   \n",
       "7596     8  2020-07-09             Pixel 2  Chrome Mobile WebView      0   \n",
       "7768    14  2020-07-08  Generic Smartphone  Chrome Mobile WebView      0   \n",
       "7901     8  2020-07-10   Samsung SM-A300FU  Chrome Mobile WebView      0   \n",
       "7975    12  2020-07-10    Samsung SM-A520F  Chrome Mobile WebView      0   \n",
       "\n",
       "     experiment  \n",
       "128     exposed  \n",
       "144     exposed  \n",
       "241     exposed  \n",
       "357     control  \n",
       "358     exposed  \n",
       "...         ...  \n",
       "7479    exposed  \n",
       "7596    exposed  \n",
       "7768    exposed  \n",
       "7901    exposed  \n",
       "7975    control  \n",
       "\n",
       "[227 rows x 6 columns]"
      ]
     },
     "execution_count": 34,
     "metadata": {},
     "output_type": "execute_result"
    }
   ],
   "source": [
    "utils.save_csv(chrome_mobile, '../data/browser_chrome_mobile.csv')\n",
    "utils.save_csv(chrome_mobile_webview, '../data/browser_chrome_mobile_webview.csv')"
   ]
  },
  {
   "cell_type": "markdown",
   "metadata": {},
   "source": [
    "#### Data Preparation"
   ]
  },
  {
   "cell_type": "code",
   "execution_count": 35,
   "metadata": {},
   "outputs": [
    {
     "data": {
      "text/html": [
       "<div>\n",
       "<style scoped>\n",
       "    .dataframe tbody tr th:only-of-type {\n",
       "        vertical-align: middle;\n",
       "    }\n",
       "\n",
       "    .dataframe tbody tr th {\n",
       "        vertical-align: top;\n",
       "    }\n",
       "\n",
       "    .dataframe thead th {\n",
       "        text-align: right;\n",
       "    }\n",
       "</style>\n",
       "<table border=\"1\" class=\"dataframe\">\n",
       "  <thead>\n",
       "    <tr style=\"text-align: right;\">\n",
       "      <th></th>\n",
       "      <th>experiment</th>\n",
       "      <th>date</th>\n",
       "      <th>hour</th>\n",
       "      <th>device_make</th>\n",
       "      <th>platform_os</th>\n",
       "      <th>browser</th>\n",
       "      <th>aware</th>\n",
       "    </tr>\n",
       "  </thead>\n",
       "  <tbody>\n",
       "    <tr>\n",
       "      <th>16</th>\n",
       "      <td>exposed</td>\n",
       "      <td>2020-07-04</td>\n",
       "      <td>16</td>\n",
       "      <td>Generic Smartphone</td>\n",
       "      <td>6</td>\n",
       "      <td>Chrome Mobile</td>\n",
       "      <td>1</td>\n",
       "    </tr>\n",
       "    <tr>\n",
       "      <th>23</th>\n",
       "      <td>control</td>\n",
       "      <td>2020-07-08</td>\n",
       "      <td>4</td>\n",
       "      <td>Samsung SM-A202F</td>\n",
       "      <td>6</td>\n",
       "      <td>Facebook</td>\n",
       "      <td>1</td>\n",
       "    </tr>\n",
       "    <tr>\n",
       "      <th>45</th>\n",
       "      <td>control</td>\n",
       "      <td>2020-07-03</td>\n",
       "      <td>15</td>\n",
       "      <td>Generic Smartphone</td>\n",
       "      <td>6</td>\n",
       "      <td>Chrome Mobile</td>\n",
       "      <td>1</td>\n",
       "    </tr>\n",
       "    <tr>\n",
       "      <th>65</th>\n",
       "      <td>exposed</td>\n",
       "      <td>2020-07-09</td>\n",
       "      <td>13</td>\n",
       "      <td>Samsung SM-G935F</td>\n",
       "      <td>6</td>\n",
       "      <td>Facebook</td>\n",
       "      <td>1</td>\n",
       "    </tr>\n",
       "    <tr>\n",
       "      <th>89</th>\n",
       "      <td>exposed</td>\n",
       "      <td>2020-07-05</td>\n",
       "      <td>6</td>\n",
       "      <td>Generic Smartphone</td>\n",
       "      <td>6</td>\n",
       "      <td>Chrome Mobile</td>\n",
       "      <td>1</td>\n",
       "    </tr>\n",
       "  </tbody>\n",
       "</table>\n",
       "</div>"
      ],
      "text/plain": [
       "   experiment        date  hour         device_make  platform_os  \\\n",
       "16    exposed  2020-07-04    16  Generic Smartphone            6   \n",
       "23    control  2020-07-08     4    Samsung SM-A202F            6   \n",
       "45    control  2020-07-03    15  Generic Smartphone            6   \n",
       "65    exposed  2020-07-09    13    Samsung SM-G935F            6   \n",
       "89    exposed  2020-07-05     6  Generic Smartphone            6   \n",
       "\n",
       "          browser  aware  \n",
       "16  Chrome Mobile      1  \n",
       "23       Facebook      1  \n",
       "45  Chrome Mobile      1  \n",
       "65       Facebook      1  \n",
       "89  Chrome Mobile      1  "
      ]
     },
     "execution_count": 35,
     "metadata": {},
     "output_type": "execute_result"
    }
   ],
   "source": [
    "responded_df = responded_df.drop(columns='auction_id')\n",
    "responded_df.head()\n"
   ]
  },
  {
   "cell_type": "markdown",
   "metadata": {},
   "source": [
    "#### Import 4 classes of data and prepare for model building"
   ]
  },
  {
   "cell_type": "code",
   "execution_count": 36,
   "metadata": {},
   "outputs": [],
   "source": [
    "platform_android = utils.load_data_dvc('v2', 'data/platform_os_android.csv', '/home/teddy/dev/learning/10 academy/working/AB-Hypohesis-Testing_mlops')\n",
    "platform_ios = utils.load_data_dvc('v3', 'data/platform_os_ios.csv', '/home/teddy/dev/learning/10 academy/working/AB-Hypohesis-Testing_mlops')\n",
    "browser_chromemobile = utils.load_data_dvc('v4', 'data/browser_chrome_mobile.csv', '/home/teddy/dev/learning/10 academy/working/AB-Hypohesis-Testing_mlops')\n",
    "browser_chromemobile_webview = utils.load_data_dvc('v5', 'data/browser_chrome_mobile_webview.csv', '/home/teddy/dev/learning/10 academy/working/AB-Hypohesis-Testing_mlops')"
   ]
  },
  {
   "cell_type": "markdown",
   "metadata": {},
   "source": [
    "Encode data"
   ]
  },
  {
   "cell_type": "code",
   "execution_count": 37,
   "metadata": {},
   "outputs": [],
   "source": [
    "enc_platform_android = Utils.encode_features(platform_android)\n",
    "enc_platform_ios = Utils.encode_features(platform_ios)\n",
    "enc_browser_chromemobile = Utils.encode_features(browser_chromemobile)\n",
    "enc_browser_chromemobile_webview = Utils.encode_features(browser_chromemobile_webview)"
   ]
  },
  {
   "cell_type": "markdown",
   "metadata": {},
   "source": [
    "##### 1.1 Decision Tree using platfrom_android"
   ]
  },
  {
   "cell_type": "code",
   "execution_count": 38,
   "metadata": {},
   "outputs": [],
   "source": [
    "feature_cols = ['experiment', 'device_make', 'hour', 'platform_os', 'date']\n",
    "X = enc_platform_android[feature_cols]\n",
    "Y = enc_platform_android[['aware']]\n",
    "\n",
    "split_size = (.7, .2, .1)\n",
    "X_train, X_test, y_train, y_test, val_x,val_y = Utils.split_train_test_val(X, Y, split_size)"
   ]
  },
  {
   "cell_type": "code",
   "execution_count": 39,
   "metadata": {},
   "outputs": [
    {
     "name": "stdout",
     "output_type": "stream",
     "text": [
      "step 0: Validation Accuracy of DecisionTreesModel is: 0.576\n",
      "step 0: Validation Loss of DecisionTreesModel is: 0.651\n",
      "\n",
      "step 1: Validation Accuracy of DecisionTreesModel is: 0.517\n",
      "step 1: Validation Loss of DecisionTreesModel is: 0.695\n",
      "\n",
      "step 2: Validation Accuracy of DecisionTreesModel is: 0.564\n",
      "step 2: Validation Loss of DecisionTreesModel is: 0.660\n",
      "\n",
      "step 3: Validation Accuracy of DecisionTreesModel is: 0.550\n",
      "step 3: Validation Loss of DecisionTreesModel is: 0.671\n",
      "\n",
      "step 4: Validation Accuracy of DecisionTreesModel is: 0.520\n",
      "step 4: Validation Loss of DecisionTreesModel is: 0.692\n",
      "\n"
     ]
    }
   ],
   "source": [
    "decisionTreeModel = models.DecisionTreeModel(X_train, y_train, X_test, y_test)\n",
    "folds = 5\n",
    "model, accuracy, confusion_matrix = decisionTreeModel.train(folds,'DecisionTree experiment with platform_android data')"
   ]
  },
  {
   "cell_type": "code",
   "execution_count": 40,
   "metadata": {},
   "outputs": [
    {
     "name": "stderr",
     "output_type": "stream",
     "text": [
      "Registered model 'platform_android' already exists. Creating a new version of this model...\n",
      "2022/05/21 22:50:33 INFO mlflow.tracking._model_registry.client: Waiting up to 300 seconds for model version to finish creation.                     Model name: platform_android, version 4\n",
      "Created version '4' of model 'platform_android'.\n"
     ]
    },
    {
     "name": "stdout",
     "output_type": "stream",
     "text": [
      "Run - Summary is logged to Experiment - DecisionTree with Platform_os Android\n"
     ]
    },
    {
     "data": {
      "text/plain": [
       "{'accuracy': 0.52,\n",
       " 'precision': 0.63,\n",
       " 'recall': 0.26,\n",
       " 'true_neg': 17,\n",
       " 'true_pos': 47,\n",
       " 'false_neg': 49,\n",
       " 'false_pos': 10}"
      ]
     },
     "execution_count": 40,
     "metadata": {},
     "output_type": "execute_result"
    },
    {
     "data": {
      "image/png": "[encoded data removed]",
      "text/plain": [
       "<Figure size 720x720 with 1 Axes>"
      ]
     },
     "metadata": {
      "needs_background": "light"
     },
     "output_type": "display_data"
    },
    {
     "data": {
      "image/png": "[encoded data removed]",
      "text/plain": [
       "<Figure size 720x720 with 2 Axes>"
      ]
     },
     "metadata": {
      "needs_background": "light"
     },
     "output_type": "display_data"
    }
   ],
   "source": [
    "decisionTreeModel.log_model(val_x, val_y, \"DecisionTree with Platform_os Android\", 'Summary', 'platform_android')"
   ]
  },
  {
   "cell_type": "markdown",
   "metadata": {},
   "source": [
    "For our data platform android the relevant features are device_make and hour while date and experiment have no significance. The decision tree uses a maximum depth of 4."
   ]
  },
  {
   "cell_type": "markdown",
   "metadata": {},
   "source": [
    "##### 1.2 Decision Tree using platfrom_ios"
   ]
  },
  {
   "cell_type": "code",
   "execution_count": 41,
   "metadata": {},
   "outputs": [],
   "source": [
    "feature_cols = ['experiment', 'device_make', 'hour', 'platform_os', 'date']\n",
    "X = enc_platform_ios[feature_cols]\n",
    "Y = enc_platform_ios[['aware']]\n",
    "\n",
    "split_size = (.7, .2, .1)\n",
    "X_train, X_test, y_train, y_test, val_x,val_y = Utils.split_train_test_val(X, Y, split_size)"
   ]
  },
  {
   "cell_type": "code",
   "execution_count": 42,
   "metadata": {},
   "outputs": [
    {
     "name": "stdout",
     "output_type": "stream",
     "text": [
      "step 0: Validation Accuracy of DecisionTreesModel is: 0.667\n",
      "step 0: Validation Loss of DecisionTreesModel is: 0.577\n",
      "\n",
      "step 1: Validation Accuracy of DecisionTreesModel is: 1.000\n",
      "step 1: Validation Loss of DecisionTreesModel is: 0.000\n",
      "\n",
      "step 2: Validation Accuracy of DecisionTreesModel is: 0.500\n",
      "step 2: Validation Loss of DecisionTreesModel is: 0.707\n",
      "\n",
      "step 3: Validation Accuracy of DecisionTreesModel is: 0.500\n",
      "step 3: Validation Loss of DecisionTreesModel is: 0.707\n",
      "\n",
      "step 4: Validation Accuracy of DecisionTreesModel is: 1.000\n",
      "step 4: Validation Loss of DecisionTreesModel is: 0.000\n",
      "\n"
     ]
    }
   ],
   "source": [
    "decisionTreeModel = models.DecisionTreeModel(X_train, y_train, X_test, y_test)\n",
    "folds = 5\n",
    "model, accuracy, confusion_matrix = decisionTreeModel.train(folds,'DecisionTree experiment with platform_ios data')"
   ]
  },
  {
   "cell_type": "code",
   "execution_count": 43,
   "metadata": {},
   "outputs": [
    {
     "name": "stderr",
     "output_type": "stream",
     "text": [
      "Registered model 'platform_ios' already exists. Creating a new version of this model...\n",
      "2022/05/21 22:50:49 INFO mlflow.tracking._model_registry.client: Waiting up to 300 seconds for model version to finish creation.                     Model name: platform_ios, version 3\n",
      "Created version '3' of model 'platform_ios'.\n"
     ]
    },
    {
     "name": "stdout",
     "output_type": "stream",
     "text": [
      "Run - Summary is logged to Experiment - DecisionTree with Platform_os IOS\n"
     ]
    },
    {
     "data": {
      "text/plain": [
       "{'accuracy': 0.5,\n",
       " 'precision': 1.0,\n",
       " 'recall': 0.5,\n",
       " 'true_neg': 1,\n",
       " 'true_pos': 0,\n",
       " 'false_neg': 1,\n",
       " 'false_pos': 0}"
      ]
     },
     "execution_count": 43,
     "metadata": {},
     "output_type": "execute_result"
    },
    {
     "data": {
      "image/png": "[encoded data removed]",
      "text/plain": [
       "<Figure size 720x720 with 1 Axes>"
      ]
     },
     "metadata": {
      "needs_background": "light"
     },
     "output_type": "display_data"
    },
    {
     "data": {
      "image/png": "[encoded data removed]",
      "text/plain": [
       "<Figure size 720x720 with 2 Axes>"
      ]
     },
     "metadata": {
      "needs_background": "light"
     },
     "output_type": "display_data"
    }
   ],
   "source": [
    "decisionTreeModel.log_model(val_x, val_y, \"DecisionTree with Platform_os IOS\", 'Summary', 'platform_ios')"
   ]
  },
  {
   "cell_type": "markdown",
   "metadata": {},
   "source": [
    "For our dataset platform_ios the hour feature is the only driving feature in our decision tree model"
   ]
  },
  {
   "cell_type": "markdown",
   "metadata": {},
   "source": [
    "##### 1.3 Decision Tree using browser_chrome_mobile dataset"
   ]
  },
  {
   "cell_type": "code",
   "execution_count": 44,
   "metadata": {},
   "outputs": [],
   "source": [
    "feature_cols = ['experiment', 'device_make', 'hour', 'browser', 'date']\n",
    "X = enc_browser_chromemobile[feature_cols]\n",
    "Y = enc_browser_chromemobile[['aware']]\n",
    "\n",
    "split_size = (.7, .2, .1)\n",
    "X_train, X_test, y_train, y_test, val_x,val_y = Utils.split_train_test_val(X, Y, split_size)"
   ]
  },
  {
   "cell_type": "code",
   "execution_count": 45,
   "metadata": {},
   "outputs": [
    {
     "name": "stdout",
     "output_type": "stream",
     "text": [
      "step 0: Validation Accuracy of DecisionTreesModel is: 0.480\n",
      "step 0: Validation Loss of DecisionTreesModel is: 0.721\n",
      "\n",
      "step 1: Validation Accuracy of DecisionTreesModel is: 0.557\n",
      "step 1: Validation Loss of DecisionTreesModel is: 0.666\n",
      "\n",
      "step 2: Validation Accuracy of DecisionTreesModel is: 0.495\n",
      "step 2: Validation Loss of DecisionTreesModel is: 0.711\n",
      "\n",
      "step 3: Validation Accuracy of DecisionTreesModel is: 0.608\n",
      "step 3: Validation Loss of DecisionTreesModel is: 0.626\n",
      "\n",
      "step 4: Validation Accuracy of DecisionTreesModel is: 0.536\n",
      "step 4: Validation Loss of DecisionTreesModel is: 0.681\n",
      "\n"
     ]
    }
   ],
   "source": [
    "decisionTreeModel = models.DecisionTreeModel(X_train, y_train, X_test, y_test)\n",
    "folds = 5\n",
    "model, accuracy, confusion_matrix = decisionTreeModel.train(folds,'DecisionTree experiment with browser_chrome_mobile data')"
   ]
  },
  {
   "cell_type": "code",
   "execution_count": 46,
   "metadata": {},
   "outputs": [
    {
     "name": "stderr",
     "output_type": "stream",
     "text": [
      "Registered model 'browser_chrome_mobile' already exists. Creating a new version of this model...\n",
      "2022/05/21 22:51:05 INFO mlflow.tracking._model_registry.client: Waiting up to 300 seconds for model version to finish creation.                     Model name: browser_chrome_mobile, version 3\n",
      "Created version '3' of model 'browser_chrome_mobile'.\n"
     ]
    },
    {
     "name": "stdout",
     "output_type": "stream",
     "text": [
      "Run - Summary is logged to Experiment - DecisionTree with browser chrome_mobile\n"
     ]
    },
    {
     "data": {
      "text/plain": [
       "{'accuracy': 0.47,\n",
       " 'precision': 0.0,\n",
       " 'recall': 0.0,\n",
       " 'true_neg': 0,\n",
       " 'true_pos': 33,\n",
       " 'false_neg': 37,\n",
       " 'false_pos': 0}"
      ]
     },
     "execution_count": 46,
     "metadata": {},
     "output_type": "execute_result"
    },
    {
     "data": {
      "image/png": "[encoded data removed]",
      "text/plain": [
       "<Figure size 720x720 with 1 Axes>"
      ]
     },
     "metadata": {
      "needs_background": "light"
     },
     "output_type": "display_data"
    },
    {
     "data": {
      "image/png": "[encoded data removed]",
      "text/plain": [
       "<Figure size 720x720 with 2 Axes>"
      ]
     },
     "metadata": {
      "needs_background": "light"
     },
     "output_type": "display_data"
    }
   ],
   "source": [
    "decisionTreeModel.log_model(val_x, val_y, \"DecisionTree with browser chrome_mobile\", 'Summary', 'browser_chrome_mobile')"
   ]
  },
  {
   "cell_type": "markdown",
   "metadata": {},
   "source": [
    "For our dataset browser_chrome_mobile the most important features are hour and date. Hour is the most important feature in this decision tree model. The remaining features don't have any contribution"
   ]
  },
  {
   "cell_type": "markdown",
   "metadata": {},
   "source": [
    "##### 1.4 Decision Tree using browser_chrome_mobile_webview dataset"
   ]
  },
  {
   "cell_type": "code",
   "execution_count": 47,
   "metadata": {},
   "outputs": [],
   "source": [
    "feature_cols = ['experiment', 'device_make', 'hour', 'browser', 'date']\n",
    "X = enc_browser_chromemobile_webview[feature_cols]\n",
    "Y = enc_browser_chromemobile_webview[['aware']]\n",
    "\n",
    "split_size = (.7, .2, .1)\n",
    "X_train, X_test, y_train, y_test, val_x,val_y = Utils.split_train_test_val(X, Y, split_size)"
   ]
  },
  {
   "cell_type": "code",
   "execution_count": 48,
   "metadata": {},
   "outputs": [
    {
     "name": "stdout",
     "output_type": "stream",
     "text": [
      "step 0: Validation Accuracy of DecisionTreesModel is: 0.406\n",
      "step 0: Validation Loss of DecisionTreesModel is: 0.771\n",
      "\n",
      "step 1: Validation Accuracy of DecisionTreesModel is: 0.469\n",
      "step 1: Validation Loss of DecisionTreesModel is: 0.729\n",
      "\n",
      "step 2: Validation Accuracy of DecisionTreesModel is: 0.531\n",
      "step 2: Validation Loss of DecisionTreesModel is: 0.685\n",
      "\n",
      "step 3: Validation Accuracy of DecisionTreesModel is: 0.581\n",
      "step 3: Validation Loss of DecisionTreesModel is: 0.648\n",
      "\n",
      "step 4: Validation Accuracy of DecisionTreesModel is: 0.581\n",
      "step 4: Validation Loss of DecisionTreesModel is: 0.648\n",
      "\n"
     ]
    }
   ],
   "source": [
    "decisionTreeModel = models.DecisionTreeModel(X_train, y_train, X_test, y_test)\n",
    "folds = 5\n",
    "model, accuracy, confusion_matrix = decisionTreeModel.train(folds,'DecisionTree experiment with browser_chrome_mobile_webview data')"
   ]
  },
  {
   "cell_type": "code",
   "execution_count": 49,
   "metadata": {},
   "outputs": [
    {
     "name": "stderr",
     "output_type": "stream",
     "text": [
      "Registered model 'browser_chrome_mobile_webview' already exists. Creating a new version of this model...\n",
      "2022/05/21 22:51:23 INFO mlflow.tracking._model_registry.client: Waiting up to 300 seconds for model version to finish creation.                     Model name: browser_chrome_mobile_webview, version 3\n",
      "Created version '3' of model 'browser_chrome_mobile_webview'.\n"
     ]
    },
    {
     "name": "stdout",
     "output_type": "stream",
     "text": [
      "Run - Summary is logged to Experiment - DecisionTree with browser chrome_mobile_webview\n"
     ]
    },
    {
     "data": {
      "text/plain": [
       "{'accuracy': 0.61,\n",
       " 'precision': 0.75,\n",
       " 'recall': 0.46,\n",
       " 'true_neg': 6,\n",
       " 'true_pos': 8,\n",
       " 'false_neg': 7,\n",
       " 'false_pos': 2}"
      ]
     },
     "execution_count": 49,
     "metadata": {},
     "output_type": "execute_result"
    },
    {
     "data": {
      "image/png": "[encoded data removed]",
      "text/plain": [
       "<Figure size 720x720 with 1 Axes>"
      ]
     },
     "metadata": {
      "needs_background": "light"
     },
     "output_type": "display_data"
    },
    {
     "data": {
      "image/png": "[encoded data removed]",
      "text/plain": [
       "<Figure size 720x720 with 2 Axes>"
      ]
     },
     "metadata": {
      "needs_background": "light"
     },
     "output_type": "display_data"
    }
   ],
   "source": [
    "decisionTreeModel.log_model(val_x, val_y, \"DecisionTree with browser chrome_mobile_webview\", 'Summary', 'browser_chrome_mobile_webview')"
   ]
  },
  {
   "cell_type": "markdown",
   "metadata": {},
   "source": [
    "Device_make and hour are the features with the highest importance. Experiment and date have lower importances while browser has no significance in determing the target"
   ]
  },
  {
   "cell_type": "markdown",
   "metadata": {},
   "source": [
    "##### 2.1 Logistic Regression training with platform_android dataset "
   ]
  },
  {
   "cell_type": "code",
   "execution_count": 50,
   "metadata": {},
   "outputs": [],
   "source": [
    "feature_cols = ['experiment', 'device_make', 'hour', 'platform_os', 'date']\n",
    "X = enc_platform_android[feature_cols]\n",
    "Y = enc_platform_android[['aware']]\n",
    "\n",
    "split_size = (.7, .2, .1)\n",
    "X_train, X_test, y_train, y_test, val_x,val_y = Utils.split_train_test_val(X, Y, split_size)"
   ]
  },
  {
   "cell_type": "code",
   "execution_count": 51,
   "metadata": {},
   "outputs": [
    {
     "name": "stdout",
     "output_type": "stream",
     "text": [
      "step 0: Validation Accuracy of LogesticRegression is: 0.570\n",
      "step 0: Validation Loss of LogesticRegression is: 0.656\n",
      "\n",
      "step 1: Validation Accuracy of LogesticRegression is: 0.558\n",
      "step 1: Validation Loss of LogesticRegression is: 0.665\n",
      "\n",
      "step 2: Validation Accuracy of LogesticRegression is: 0.605\n",
      "step 2: Validation Loss of LogesticRegression is: 0.629\n",
      "\n",
      "step 3: Validation Accuracy of LogesticRegression is: 0.526\n",
      "step 3: Validation Loss of LogesticRegression is: 0.688\n",
      "\n",
      "step 4: Validation Accuracy of LogesticRegression is: 0.532\n",
      "step 4: Validation Loss of LogesticRegression is: 0.684\n",
      "\n"
     ]
    }
   ],
   "source": [
    "logisticRegressionModel = models.LogisticRegressionModel(X_train, y_train, X_test, y_test)\n",
    "folds = 5\n",
    "model, accuracy, confusion_matrix = logisticRegressionModel.train(folds,'LogisticRegression experiment with platform_android data')"
   ]
  },
  {
   "cell_type": "code",
   "execution_count": 52,
   "metadata": {},
   "outputs": [
    {
     "name": "stderr",
     "output_type": "stream",
     "text": [
      "Registered model 'lr_platform_android' already exists. Creating a new version of this model...\n",
      "2022/05/21 22:51:39 INFO mlflow.tracking._model_registry.client: Waiting up to 300 seconds for model version to finish creation.                     Model name: lr_platform_android, version 2\n",
      "Created version '2' of model 'lr_platform_android'.\n"
     ]
    },
    {
     "name": "stdout",
     "output_type": "stream",
     "text": [
      "Run - Summary is logged to Experiment - LogisticRegression with platform_android\n"
     ]
    },
    {
     "data": {
      "text/plain": [
       "{'accuracy': 0.53,\n",
       " 'precision': 0.64,\n",
       " 'recall': 0.27,\n",
       " 'true_neg': 18,\n",
       " 'true_pos': 47,\n",
       " 'false_neg': 48,\n",
       " 'false_pos': 10}"
      ]
     },
     "execution_count": 52,
     "metadata": {},
     "output_type": "execute_result"
    },
    {
     "data": {
      "image/png": "[encoded data removed]",
      "text/plain": [
       "<Figure size 720x720 with 1 Axes>"
      ]
     },
     "metadata": {
      "needs_background": "light"
     },
     "output_type": "display_data"
    },
    {
     "data": {
      "image/png": "[encoded data removed]",
      "text/plain": [
       "<Figure size 720x720 with 2 Axes>"
      ]
     },
     "metadata": {
      "needs_background": "light"
     },
     "output_type": "display_data"
    }
   ],
   "source": [
    "logisticRegressionModel.log_model(val_x, val_y, \"LogisticRegression with platform_android\", 'Summary', 'lr_platform_android')"
   ]
  },
  {
   "cell_type": "markdown",
   "metadata": {},
   "source": [
    "The feature importance graph indicates that all features except platform_os predict for a target value of 1. This is because all of the values are positive. The degree to which they predict varies and experiment has the highest importance in predicting a target class of 1."
   ]
  },
  {
   "cell_type": "markdown",
   "metadata": {},
   "source": [
    "##### 2.2 Logistic Regression training with platform_ios dataset "
   ]
  },
  {
   "cell_type": "code",
   "execution_count": 53,
   "metadata": {},
   "outputs": [],
   "source": [
    "feature_cols = ['experiment', 'device_make', 'hour', 'platform_os', 'date']\n",
    "X = enc_platform_ios[feature_cols]\n",
    "Y = enc_platform_ios[['aware']]\n",
    "\n",
    "split_size = (.7, .2, .1)\n",
    "X_train, X_test, y_train, y_test, val_x,val_y = Utils.split_train_test_val(X, Y, split_size)"
   ]
  },
  {
   "cell_type": "code",
   "execution_count": 54,
   "metadata": {},
   "outputs": [
    {
     "name": "stdout",
     "output_type": "stream",
     "text": [
      "step 0: Validation Accuracy of LogesticRegression is: 0.667\n",
      "step 0: Validation Loss of LogesticRegression is: 0.577\n",
      "\n",
      "step 1: Validation Accuracy of LogesticRegression is: 0.500\n",
      "step 1: Validation Loss of LogesticRegression is: 0.707\n",
      "\n",
      "step 2: Validation Accuracy of LogesticRegression is: 0.500\n",
      "step 2: Validation Loss of LogesticRegression is: 0.707\n",
      "\n",
      "step 3: Validation Accuracy of LogesticRegression is: 1.000\n",
      "step 3: Validation Loss of LogesticRegression is: 0.000\n",
      "\n",
      "step 4: Validation Accuracy of LogesticRegression is: 1.000\n",
      "step 4: Validation Loss of LogesticRegression is: 0.000\n",
      "\n"
     ]
    }
   ],
   "source": [
    "logisticRegressionModel = models.LogisticRegressionModel(X_train, y_train, X_test, y_test)\n",
    "folds = 5\n",
    "model, accuracy, confusion_matrix = logisticRegressionModel.train(folds,'LogisticRegression experiment with platform_ios data')"
   ]
  },
  {
   "cell_type": "code",
   "execution_count": 55,
   "metadata": {},
   "outputs": [
    {
     "name": "stdout",
     "output_type": "stream",
     "text": [
      "Unable to calculate confusion matrix\n"
     ]
    },
    {
     "name": "stderr",
     "output_type": "stream",
     "text": [
      "2022/05/21 22:51:52 INFO mlflow.tracking.fluent: Experiment with name 'LogisticRegression with platform_ios' does not exist. Creating a new experiment.\n",
      "Successfully registered model 'lr_platform_ios'.\n",
      "2022/05/21 22:51:54 INFO mlflow.tracking._model_registry.client: Waiting up to 300 seconds for model version to finish creation.                     Model name: lr_platform_ios, version 1\n",
      "Created version '1' of model 'lr_platform_ios'.\n"
     ]
    },
    {
     "name": "stdout",
     "output_type": "stream",
     "text": [
      "Run - Summary is logged to Experiment - LogisticRegression with platform_ios\n"
     ]
    },
    {
     "data": {
      "text/plain": [
       "{'accuracy': 1.0, 'precision': 1.0, 'recall': 1.0}"
      ]
     },
     "execution_count": 55,
     "metadata": {},
     "output_type": "execute_result"
    },
    {
     "data": {
      "image/png": "[encoded data removed]",
      "text/plain": [
       "<Figure size 720x720 with 1 Axes>"
      ]
     },
     "metadata": {
      "needs_background": "light"
     },
     "output_type": "display_data"
    },
    {
     "data": {
      "image/png": "[encoded data removed]",
      "text/plain": [
       "<Figure size 720x720 with 2 Axes>"
      ]
     },
     "metadata": {
      "needs_background": "light"
     },
     "output_type": "display_data"
    }
   ],
   "source": [
    "logisticRegressionModel.log_model(val_x, val_y, \"LogisticRegression with platform_ios\", 'Summary', 'lr_platform_ios')"
   ]
  },
  {
   "cell_type": "markdown",
   "metadata": {},
   "source": []
  },
  {
   "cell_type": "markdown",
   "metadata": {},
   "source": [
    "##### 2.3 Logistic Regression training with browser chrome_mobile dataset "
   ]
  },
  {
   "cell_type": "code",
   "execution_count": 56,
   "metadata": {},
   "outputs": [],
   "source": [
    "feature_cols = ['experiment', 'device_make', 'hour', 'browser', 'date']\n",
    "X = enc_browser_chromemobile[feature_cols]\n",
    "Y = enc_browser_chromemobile[['aware']]\n",
    "\n",
    "split_size = (.7, .2, .1)\n",
    "X_train, X_test, y_train, y_test, val_x,val_y = Utils.split_train_test_val(X, Y, split_size)"
   ]
  },
  {
   "cell_type": "code",
   "execution_count": 57,
   "metadata": {},
   "outputs": [
    {
     "name": "stdout",
     "output_type": "stream",
     "text": [
      "step 0: Validation Accuracy of LogesticRegression is: 0.490\n",
      "step 0: Validation Loss of LogesticRegression is: 0.714\n",
      "\n",
      "step 1: Validation Accuracy of LogesticRegression is: 0.557\n",
      "step 1: Validation Loss of LogesticRegression is: 0.666\n",
      "\n",
      "step 2: Validation Accuracy of LogesticRegression is: 0.557\n",
      "step 2: Validation Loss of LogesticRegression is: 0.666\n",
      "\n",
      "step 3: Validation Accuracy of LogesticRegression is: 0.619\n",
      "step 3: Validation Loss of LogesticRegression is: 0.618\n",
      "\n",
      "step 4: Validation Accuracy of LogesticRegression is: 0.557\n",
      "step 4: Validation Loss of LogesticRegression is: 0.666\n",
      "\n"
     ]
    }
   ],
   "source": [
    "logisticRegressionModel = models.LogisticRegressionModel(X_train, y_train, X_test, y_test)\n",
    "folds = 5\n",
    "model, accuracy, confusion_matrix = logisticRegressionModel.train(folds,'LogisticRegression experiment with browser chrome_mobile data')"
   ]
  },
  {
   "cell_type": "code",
   "execution_count": 58,
   "metadata": {},
   "outputs": [
    {
     "name": "stderr",
     "output_type": "stream",
     "text": [
      "Registered model 'lr_browser_chrome_mobile' already exists. Creating a new version of this model...\n",
      "2022/05/21 22:52:12 INFO mlflow.tracking._model_registry.client: Waiting up to 300 seconds for model version to finish creation.                     Model name: lr_browser_chrome_mobile, version 2\n",
      "Created version '2' of model 'lr_browser_chrome_mobile'.\n"
     ]
    },
    {
     "name": "stdout",
     "output_type": "stream",
     "text": [
      "Run - Summary is logged to Experiment - LogisticRegression with browser chrome_mobile\n"
     ]
    },
    {
     "data": {
      "text/plain": [
       "{'accuracy': 0.41,\n",
       " 'precision': 0.25,\n",
       " 'recall': 0.05,\n",
       " 'true_neg': 2,\n",
       " 'true_pos': 27,\n",
       " 'false_neg': 35,\n",
       " 'false_pos': 6}"
      ]
     },
     "execution_count": 58,
     "metadata": {},
     "output_type": "execute_result"
    },
    {
     "data": {
      "image/png": "[encoded data removed]",
      "text/plain": [
       "<Figure size 720x720 with 1 Axes>"
      ]
     },
     "metadata": {
      "needs_background": "light"
     },
     "output_type": "display_data"
    },
    {
     "data": {
      "image/png": "[encoded data removed]",
      "text/plain": [
       "<Figure size 720x720 with 2 Axes>"
      ]
     },
     "metadata": {
      "needs_background": "light"
     },
     "output_type": "display_data"
    }
   ],
   "source": [
    "logisticRegressionModel.log_model(val_x, val_y, \"LogisticRegression with browser chrome_mobile\", 'Summary', 'lr_browser_chrome_mobile')"
   ]
  },
  {
   "cell_type": "markdown",
   "metadata": {},
   "source": [
    "From the feature importance graph we can see that the experiment feature contributes highly in predicting a target class of 0(not aware). The other features device_make, hour and date predict a target class of 1(aware)."
   ]
  },
  {
   "cell_type": "markdown",
   "metadata": {},
   "source": [
    "##### 2.4 Logistic Regression training with browser chrome_mobile_webview dataset "
   ]
  },
  {
   "cell_type": "code",
   "execution_count": 59,
   "metadata": {},
   "outputs": [],
   "source": [
    "feature_cols = ['experiment', 'device_make', 'hour', 'browser', 'date']\n",
    "X = enc_browser_chromemobile_webview[feature_cols]\n",
    "Y = enc_browser_chromemobile_webview[['aware']]\n",
    "\n",
    "split_size = (.7, .2, .1)\n",
    "X_train, X_test, y_train, y_test, val_x,val_y = Utils.split_train_test_val(X, Y, split_size)"
   ]
  },
  {
   "cell_type": "code",
   "execution_count": 60,
   "metadata": {},
   "outputs": [
    {
     "name": "stdout",
     "output_type": "stream",
     "text": [
      "step 0: Validation Accuracy of LogesticRegression is: 0.469\n",
      "step 0: Validation Loss of LogesticRegression is: 0.729\n",
      "\n",
      "step 1: Validation Accuracy of LogesticRegression is: 0.500\n",
      "step 1: Validation Loss of LogesticRegression is: 0.707\n",
      "\n",
      "step 2: Validation Accuracy of LogesticRegression is: 0.438\n",
      "step 2: Validation Loss of LogesticRegression is: 0.750\n",
      "\n",
      "step 3: Validation Accuracy of LogesticRegression is: 0.613\n",
      "step 3: Validation Loss of LogesticRegression is: 0.622\n",
      "\n",
      "step 4: Validation Accuracy of LogesticRegression is: 0.387\n",
      "step 4: Validation Loss of LogesticRegression is: 0.783\n",
      "\n"
     ]
    }
   ],
   "source": [
    "logisticRegressionModel = models.LogisticRegressionModel(X_train, y_train, X_test, y_test)\n",
    "folds = 5\n",
    "model, accuracy, confusion_matrix = logisticRegressionModel.train(folds,'LogisticRegression experiment with browser chrome_mobile_webview data')"
   ]
  },
  {
   "cell_type": "code",
   "execution_count": 61,
   "metadata": {},
   "outputs": [
    {
     "name": "stderr",
     "output_type": "stream",
     "text": [
      "Registered model 'lr_browser_chrome_mobile_webview' already exists. Creating a new version of this model...\n",
      "2022/05/21 22:52:27 INFO mlflow.tracking._model_registry.client: Waiting up to 300 seconds for model version to finish creation.                     Model name: lr_browser_chrome_mobile_webview, version 2\n",
      "Created version '2' of model 'lr_browser_chrome_mobile_webview'.\n"
     ]
    },
    {
     "name": "stdout",
     "output_type": "stream",
     "text": [
      "Run - Summary is logged to Experiment - LogisticRegression with browser chrome_mobile_webview\n"
     ]
    },
    {
     "data": {
      "text/plain": [
       "{'accuracy': 0.57,\n",
       " 'precision': 0.59,\n",
       " 'recall': 0.77,\n",
       " 'true_neg': 10,\n",
       " 'true_pos': 3,\n",
       " 'false_neg': 3,\n",
       " 'false_pos': 7}"
      ]
     },
     "execution_count": 61,
     "metadata": {},
     "output_type": "execute_result"
    },
    {
     "data": {
      "image/png": "[encoded data removed]",
      "text/plain": [
       "<Figure size 720x720 with 1 Axes>"
      ]
     },
     "metadata": {
      "needs_background": "light"
     },
     "output_type": "display_data"
    },
    {
     "data": {
      "image/png": "[encoded data removed]",
      "text/plain": [
       "<Figure size 720x720 with 2 Axes>"
      ]
     },
     "metadata": {
      "needs_background": "light"
     },
     "output_type": "display_data"
    }
   ],
   "source": [
    "logisticRegressionModel.log_model(val_x, val_y, \"LogisticRegression with browser chrome_mobile_webview\", 'Summary', 'lr_browser_chrome_mobile_webview')"
   ]
  },
  {
   "cell_type": "markdown",
   "metadata": {},
   "source": [
    "The feature importance graph indicates that all features except browser predict for a target value of 1. This is because all of the values are positive. The degree to which they predict varies and experiment has the highest significane in predicting a target class of 1(aware)."
   ]
  },
  {
   "cell_type": "markdown",
   "metadata": {},
   "source": [
    "##### 3.1 XGBoost training with platform_android dataset "
   ]
  },
  {
   "cell_type": "code",
   "execution_count": 62,
   "metadata": {},
   "outputs": [],
   "source": [
    "feature_cols = ['experiment', 'device_make', 'hour', 'platform_os', 'date']\n",
    "X = enc_platform_android[feature_cols]\n",
    "Y = enc_platform_android[['aware']]\n",
    "\n",
    "split_size = (.7, .2, .1)\n",
    "X_train, X_test, y_train, y_test, val_x,val_y = Utils.split_train_test_val(X, Y, split_size)"
   ]
  },
  {
   "cell_type": "code",
   "execution_count": 63,
   "metadata": {},
   "outputs": [
    {
     "name": "stdout",
     "output_type": "stream",
     "text": [
      "step 0: Validation Accuracy of GradientBoostingClassifier is: 0.523\n",
      "step 0: Validation Loss of GradientBoostingClassifier is: 0.690\n",
      "\n",
      "step 1: Validation Accuracy of GradientBoostingClassifier is: 0.517\n",
      "step 1: Validation Loss of GradientBoostingClassifier is: 0.695\n",
      "\n",
      "step 2: Validation Accuracy of GradientBoostingClassifier is: 0.581\n",
      "step 2: Validation Loss of GradientBoostingClassifier is: 0.647\n",
      "\n",
      "step 3: Validation Accuracy of GradientBoostingClassifier is: 0.591\n",
      "step 3: Validation Loss of GradientBoostingClassifier is: 0.640\n",
      "\n",
      "step 4: Validation Accuracy of GradientBoostingClassifier is: 0.497\n",
      "step 4: Validation Loss of GradientBoostingClassifier is: 0.709\n",
      "\n"
     ]
    }
   ],
   "source": [
    "xgboost_model = models.XGBClassifierModel(X_train, y_train, X_test, y_test)\n",
    "folds = 5\n",
    "model, accuracy, confusion_matrix = xgboost_model.train(folds,'XGBoost experiment with platform_android data')"
   ]
  },
  {
   "cell_type": "code",
   "execution_count": 64,
   "metadata": {},
   "outputs": [
    {
     "name": "stderr",
     "output_type": "stream",
     "text": [
      "Registered model 'xgb_platform_android' already exists. Creating a new version of this model...\n",
      "2022/05/21 22:52:45 INFO mlflow.tracking._model_registry.client: Waiting up to 300 seconds for model version to finish creation.                     Model name: xgb_platform_android, version 2\n",
      "Created version '2' of model 'xgb_platform_android'.\n"
     ]
    },
    {
     "name": "stdout",
     "output_type": "stream",
     "text": [
      "Run - Summary is logged to Experiment - XGBoost with platform_android\n"
     ]
    },
    {
     "data": {
      "text/plain": [
       "{'accuracy': 0.54,\n",
       " 'precision': 0.63,\n",
       " 'recall': 0.33,\n",
       " 'true_neg': 22,\n",
       " 'true_pos': 44,\n",
       " 'false_neg': 44,\n",
       " 'false_pos': 13}"
      ]
     },
     "execution_count": 64,
     "metadata": {},
     "output_type": "execute_result"
    },
    {
     "data": {
      "image/png": "[encoded data removed]",
      "text/plain": [
       "<Figure size 720x720 with 1 Axes>"
      ]
     },
     "metadata": {
      "needs_background": "light"
     },
     "output_type": "display_data"
    },
    {
     "data": {
      "image/png": "[encoded data removed]",
      "text/plain": [
       "<Figure size 720x720 with 2 Axes>"
      ]
     },
     "metadata": {
      "needs_background": "light"
     },
     "output_type": "display_data"
    }
   ],
   "source": [
    "xgboost_model.log_model(val_x, val_y, \"XGBoost with platform_android\", 'Summary', 'xgb_platform_android')"
   ]
  },
  {
   "cell_type": "markdown",
   "metadata": {},
   "source": [
    "Device_make and hour are the features with the highest importance. Device_make has the highest overall importance for xgboost model using the platform_android dataset"
   ]
  },
  {
   "cell_type": "markdown",
   "metadata": {},
   "source": [
    "##### 3.2 XGBoost training with platform_ios dataset "
   ]
  },
  {
   "cell_type": "code",
   "execution_count": 65,
   "metadata": {},
   "outputs": [],
   "source": [
    "feature_cols = ['experiment', 'device_make', 'hour', 'platform_os', 'date']\n",
    "X = enc_platform_ios[feature_cols]\n",
    "Y = enc_platform_ios[['aware']]\n",
    "\n",
    "split_size = (.7, .2, .1)\n",
    "X_train, X_test, y_train, y_test, val_x,val_y = Utils.split_train_test_val(X, Y, split_size)"
   ]
  },
  {
   "cell_type": "code",
   "execution_count": 66,
   "metadata": {},
   "outputs": [
    {
     "name": "stdout",
     "output_type": "stream",
     "text": [
      "step 0: Validation Accuracy of GradientBoostingClassifier is: 0.667\n",
      "step 0: Validation Loss of GradientBoostingClassifier is: 0.577\n",
      "\n",
      "step 1: Validation Accuracy of GradientBoostingClassifier is: 1.000\n",
      "step 1: Validation Loss of GradientBoostingClassifier is: 0.000\n",
      "\n",
      "step 2: Validation Accuracy of GradientBoostingClassifier is: 0.500\n",
      "step 2: Validation Loss of GradientBoostingClassifier is: 0.707\n",
      "\n",
      "step 3: Validation Accuracy of GradientBoostingClassifier is: 0.500\n",
      "step 3: Validation Loss of GradientBoostingClassifier is: 0.707\n",
      "\n",
      "step 4: Validation Accuracy of GradientBoostingClassifier is: 0.500\n",
      "step 4: Validation Loss of GradientBoostingClassifier is: 0.707\n",
      "\n"
     ]
    }
   ],
   "source": [
    "xgboost_model = models.XGBClassifierModel(X_train, y_train, X_test, y_test)\n",
    "folds = 5\n",
    "model, accuracy, confusion_matrix = xgboost_model.train(folds,'XGBoost experiment with platform_ios data')"
   ]
  },
  {
   "cell_type": "code",
   "execution_count": 67,
   "metadata": {},
   "outputs": [
    {
     "name": "stderr",
     "output_type": "stream",
     "text": [
      "Registered model 'xgb_platform_ios' already exists. Creating a new version of this model...\n",
      "2022/05/21 22:53:03 INFO mlflow.tracking._model_registry.client: Waiting up to 300 seconds for model version to finish creation.                     Model name: xgb_platform_ios, version 2\n",
      "Created version '2' of model 'xgb_platform_ios'.\n"
     ]
    },
    {
     "name": "stdout",
     "output_type": "stream",
     "text": [
      "Run - Summary is logged to Experiment - XGBoost with platform_ios\n"
     ]
    },
    {
     "data": {
      "text/plain": [
       "{'accuracy': 0.0,\n",
       " 'precision': 0.0,\n",
       " 'recall': 0.0,\n",
       " 'true_neg': 0,\n",
       " 'true_pos': 0,\n",
       " 'false_neg': 2,\n",
       " 'false_pos': 0}"
      ]
     },
     "execution_count": 67,
     "metadata": {},
     "output_type": "execute_result"
    },
    {
     "data": {
      "image/png": "[encoded data removed]",
      "text/plain": [
       "<Figure size 720x720 with 1 Axes>"
      ]
     },
     "metadata": {
      "needs_background": "light"
     },
     "output_type": "display_data"
    },
    {
     "data": {
      "image/png": "[encoded data removed]",
      "text/plain": [
       "<Figure size 720x720 with 2 Axes>"
      ]
     },
     "metadata": {
      "needs_background": "light"
     },
     "output_type": "display_data"
    }
   ],
   "source": [
    "xgboost_model.log_model(val_x, val_y, \"XGBoost with platform_ios\", 'Summary', 'xgb_platform_ios')"
   ]
  },
  {
   "cell_type": "markdown",
   "metadata": {},
   "source": [
    "Hour and experiment are the features with the highest importance. Hour feature has the highest overall importance which is more than double the importance of experiment. The other features have negligible importance"
   ]
  },
  {
   "cell_type": "markdown",
   "metadata": {},
   "source": [
    "##### 3.3 XGBoost training with browser chrome_mobile dataset "
   ]
  },
  {
   "cell_type": "code",
   "execution_count": 68,
   "metadata": {},
   "outputs": [],
   "source": [
    "feature_cols = ['experiment', 'device_make', 'hour', 'browser', 'date']\n",
    "X = enc_browser_chromemobile[feature_cols]\n",
    "Y = enc_browser_chromemobile[['aware']]\n",
    "\n",
    "split_size = (.7, .2, .1)\n",
    "X_train, X_test, y_train, y_test, val_x,val_y = Utils.split_train_test_val(X, Y, split_size)"
   ]
  },
  {
   "cell_type": "code",
   "execution_count": 69,
   "metadata": {},
   "outputs": [
    {
     "name": "stdout",
     "output_type": "stream",
     "text": [
      "step 0: Validation Accuracy of GradientBoostingClassifier is: 0.449\n",
      "step 0: Validation Loss of GradientBoostingClassifier is: 0.742\n",
      "\n",
      "step 1: Validation Accuracy of GradientBoostingClassifier is: 0.536\n",
      "step 1: Validation Loss of GradientBoostingClassifier is: 0.681\n",
      "\n",
      "step 2: Validation Accuracy of GradientBoostingClassifier is: 0.546\n",
      "step 2: Validation Loss of GradientBoostingClassifier is: 0.674\n",
      "\n",
      "step 3: Validation Accuracy of GradientBoostingClassifier is: 0.557\n",
      "step 3: Validation Loss of GradientBoostingClassifier is: 0.666\n",
      "\n",
      "step 4: Validation Accuracy of GradientBoostingClassifier is: 0.567\n",
      "step 4: Validation Loss of GradientBoostingClassifier is: 0.658\n",
      "\n"
     ]
    }
   ],
   "source": [
    "xgboost_model = models.XGBClassifierModel(X_train, y_train, X_test, y_test)\n",
    "folds = 5\n",
    "model, accuracy, confusion_matrix = xgboost_model.train(folds,'XGBoost experiment with browser chrome_mobile data')"
   ]
  },
  {
   "cell_type": "code",
   "execution_count": 70,
   "metadata": {},
   "outputs": [
    {
     "name": "stderr",
     "output_type": "stream",
     "text": [
      "Registered model 'xgb_browser_chrome_mobile' already exists. Creating a new version of this model...\n",
      "2022/05/21 22:53:19 INFO mlflow.tracking._model_registry.client: Waiting up to 300 seconds for model version to finish creation.                     Model name: xgb_browser_chrome_mobile, version 2\n",
      "Created version '2' of model 'xgb_browser_chrome_mobile'.\n"
     ]
    },
    {
     "name": "stdout",
     "output_type": "stream",
     "text": [
      "Run - Summary is logged to Experiment - XGBoost with browser chrome_mobile\n"
     ]
    },
    {
     "data": {
      "text/plain": [
       "{'accuracy': 0.4,\n",
       " 'precision': 0.41,\n",
       " 'recall': 0.32,\n",
       " 'true_neg': 12,\n",
       " 'true_pos': 16,\n",
       " 'false_neg': 25,\n",
       " 'false_pos': 17}"
      ]
     },
     "execution_count": 70,
     "metadata": {},
     "output_type": "execute_result"
    },
    {
     "data": {
      "image/png": "[encoded data removed]",
      "text/plain": [
       "<Figure size 720x720 with 1 Axes>"
      ]
     },
     "metadata": {
      "needs_background": "light"
     },
     "output_type": "display_data"
    },
    {
     "data": {
      "image/png": "[encoded data removed]",
      "text/plain": [
       "<Figure size 720x720 with 2 Axes>"
      ]
     },
     "metadata": {
      "needs_background": "light"
     },
     "output_type": "display_data"
    }
   ],
   "source": [
    "xgboost_model.log_model(val_x, val_y, \"XGBoost with browser chrome_mobile\", 'Summary', 'xgb_browser_chrome_mobile')"
   ]
  },
  {
   "cell_type": "markdown",
   "metadata": {},
   "source": [
    "The hour feature has significant importance as compared to the other features. The date feature is in second place for the xgboost model with the browser_chrome_mobile dataset"
   ]
  },
  {
   "cell_type": "markdown",
   "metadata": {},
   "source": [
    "##### 3.4 XGBoost training with browser chrome_mobile_webview dataset "
   ]
  },
  {
   "cell_type": "code",
   "execution_count": 71,
   "metadata": {},
   "outputs": [],
   "source": [
    "feature_cols = ['experiment', 'device_make', 'hour', 'browser', 'date']\n",
    "X = enc_browser_chromemobile_webview[feature_cols]\n",
    "Y = enc_browser_chromemobile_webview[['aware']]\n",
    "\n",
    "split_size = (.7, .2, .1)\n",
    "X_train, X_test, y_train, y_test, val_x,val_y = Utils.split_train_test_val(X, Y, split_size)"
   ]
  },
  {
   "cell_type": "code",
   "execution_count": 72,
   "metadata": {},
   "outputs": [
    {
     "name": "stdout",
     "output_type": "stream",
     "text": [
      "step 0: Validation Accuracy of GradientBoostingClassifier is: 0.500\n",
      "step 0: Validation Loss of GradientBoostingClassifier is: 0.707\n",
      "\n",
      "step 1: Validation Accuracy of GradientBoostingClassifier is: 0.375\n",
      "step 1: Validation Loss of GradientBoostingClassifier is: 0.791\n",
      "\n",
      "step 2: Validation Accuracy of GradientBoostingClassifier is: 0.406\n",
      "step 2: Validation Loss of GradientBoostingClassifier is: 0.771\n",
      "\n",
      "step 3: Validation Accuracy of GradientBoostingClassifier is: 0.452\n",
      "step 3: Validation Loss of GradientBoostingClassifier is: 0.741\n",
      "\n",
      "step 4: Validation Accuracy of GradientBoostingClassifier is: 0.613\n",
      "step 4: Validation Loss of GradientBoostingClassifier is: 0.622\n",
      "\n"
     ]
    }
   ],
   "source": [
    "xgboost_model = models.XGBClassifierModel(X_train, y_train, X_test, y_test)\n",
    "folds = 5\n",
    "model, accuracy, confusion_matrix = xgboost_model.train(folds,'XGBoost experiment with browser chrome_mobile_webview data')"
   ]
  },
  {
   "cell_type": "code",
   "execution_count": 73,
   "metadata": {},
   "outputs": [
    {
     "name": "stderr",
     "output_type": "stream",
     "text": [
      "Registered model 'xgb_browser_chrome_mobile_webview' already exists. Creating a new version of this model...\n",
      "2022/05/21 22:53:35 INFO mlflow.tracking._model_registry.client: Waiting up to 300 seconds for model version to finish creation.                     Model name: xgb_browser_chrome_mobile_webview, version 2\n",
      "Created version '2' of model 'xgb_browser_chrome_mobile_webview'.\n"
     ]
    },
    {
     "name": "stdout",
     "output_type": "stream",
     "text": [
      "Run - Summary is logged to Experiment - XGBoost with browser chrome_mobile_webview\n"
     ]
    },
    {
     "data": {
      "text/plain": [
       "{'accuracy': 0.57,\n",
       " 'precision': 0.62,\n",
       " 'recall': 0.62,\n",
       " 'true_neg': 8,\n",
       " 'true_pos': 5,\n",
       " 'false_neg': 5,\n",
       " 'false_pos': 5}"
      ]
     },
     "execution_count": 73,
     "metadata": {},
     "output_type": "execute_result"
    },
    {
     "data": {
      "image/png": "[encoded data removed]",
      "text/plain": [
       "<Figure size 720x720 with 1 Axes>"
      ]
     },
     "metadata": {
      "needs_background": "light"
     },
     "output_type": "display_data"
    },
    {
     "data": {
      "image/png": "[encoded data removed]",
      "text/plain": [
       "<Figure size 720x720 with 2 Axes>"
      ]
     },
     "metadata": {
      "needs_background": "light"
     },
     "output_type": "display_data"
    }
   ],
   "source": [
    "xgboost_model.log_model(val_x, val_y, \"XGBoost with browser chrome_mobile_webview\", 'Summary', 'xgb_browser_chrome_mobile_webview')"
   ]
  },
  {
   "cell_type": "markdown",
   "metadata": {},
   "source": [
    "Device_make and hour features have the highest importance. The other features have a lower importance while the browser feature has negligible importance for the xgboost model using the chrome_mobile_webview dataset"
   ]
  },
  {
   "cell_type": "code",
   "execution_count": null,
   "metadata": {},
   "outputs": [],
   "source": []
  }
 ],
 "metadata": {
  "interpreter": {
   "hash": "4013b6f8acbae43f7c648f99fd383e8ec3d5fcc3a746a9453def012ca3c2930d"
  },
  "kernelspec": {
   "display_name": "Python 3.9.7 ('base')",
   "language": "python",
   "name": "python3"
  },
  "language_info": {
   "codemirror_mode": {
    "name": "ipython",
    "version": 3
   },
   "file_extension": ".py",
   "mimetype": "text/x-python",
   "name": "python",
   "nbconvert_exporter": "python",
   "pygments_lexer": "ipython3",
   "version": "3.9.7"
  },
  "orig_nbformat": 4
 },
 "nbformat": 4,
 "nbformat_minor": 2
}
